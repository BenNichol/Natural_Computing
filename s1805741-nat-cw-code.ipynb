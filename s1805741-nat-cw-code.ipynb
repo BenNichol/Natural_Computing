{
 "cells": [
  {
   "cell_type": "markdown",
   "metadata": {},
   "source": [
    "# Problem 1: Analysis of Particle Swarm Optimisation"
   ]
  },
  {
   "cell_type": "code",
   "execution_count": 1,
   "metadata": {},
   "outputs": [],
   "source": [
    "import numpy as np\n",
    "import itertools\n",
    "from matplotlib import pyplot as plt\n",
    "from matplotlib import cm\n",
    "import pandas as pd\n",
    "import seaborn as sns"
   ]
  },
  {
   "cell_type": "markdown",
   "metadata": {},
   "source": [
    "The following will be the goal (\"fitness\") function. Here it is to be minimised."
   ]
  },
  {
   "cell_type": "code",
   "execution_count": 2,
   "metadata": {},
   "outputs": [],
   "source": [
    "def rosenbrock(pos,dim):    #this serves as a goal function\n",
    "                            # Defined by f(x,y) = (a-x)^2 + b(y-x^2)^2\n",
    "                            # Using here: a = 1, b= 100, optimum 0 at (1,1)\n",
    "        if dim==2:\n",
    "            return ((1-pos[0])**2 + 100*(pos[1] - pos[0]**2)**2)\n",
    "        elif dim==1:\n",
    "            return (1-pos[0])**2 \n",
    "        else: \n",
    "            ros=0;\n",
    "            for i in range(dim-1):\n",
    "                ros=ros+100*(pos[i+1] - pos[i]**2)**2 * (1-pos[i])**2 \n",
    "            return ros"
   ]
  },
  {
   "cell_type": "markdown",
   "metadata": {},
   "source": [
    "The following will be a fitness function defined by the Sphere function. It will also be minimised."
   ]
  },
  {
   "cell_type": "code",
   "execution_count": 3,
   "metadata": {},
   "outputs": [],
   "source": [
    "def sphere(x, d):   # This is the sphere function\n",
    "                    # Defined by f(x, d) = SUM_i(x_i)^2\n",
    "                    # x here is a vector of dimension (1,d)\n",
    "    fitness = 0\n",
    "    for i in range(d):\n",
    "        fitness = fitness + np.square(x[i])\n",
    "    return fitness"
   ]
  },
  {
   "cell_type": "markdown",
   "metadata": {},
   "source": [
    "The following will be a fitness function defined by the Rastrigrin function"
   ]
  },
  {
   "cell_type": "code",
   "execution_count": 4,
   "metadata": {},
   "outputs": [],
   "source": [
    "def rastrigrin(x, d):   # This is the rastrigrin function\n",
    "                        # Defined by f(x, d) = 10d + SUM_i((x_i)^2 -10cos(2*pi*x_i))\n",
    "                        # x here is once again a vector of dimension (1, d) and d is presumably the dimensions given to the function\n",
    "    fitness = 0\n",
    "    sumPart = 0\n",
    "    for i in range(d):\n",
    "        sumPart = sumPart + (np.square(x[i])-10*np.cos(2*np.pi*x[i]))\n",
    "    fitness = 10*d + sumPart\n",
    "    return fitness"
   ]
  },
  {
   "cell_type": "markdown",
   "metadata": {},
   "source": [
    "The following is a class defining the Particles used in the PSO"
   ]
  },
  {
   "cell_type": "code",
   "execution_count": 5,
   "metadata": {},
   "outputs": [],
   "source": [
    "class Particle: # all the material that is relavant at the level of the individual particles\n",
    "    \n",
    "    def __init__(self, dim, minx, maxx, ffunction):\n",
    "        self.ffunction = ffunction\n",
    "        self.position = np.random.uniform(low=minx, high=maxx, size=dim)\n",
    "        self.velocity = np.random.uniform(low=-0.1, high=0.1, size=dim)\n",
    "        self.best_particle_pos = self.position\n",
    "        self.dim = dim\n",
    "\n",
    "        if(ffunction == 'sphere'):\n",
    "            self.fitness = sphere(self.position,dim)\n",
    "        elif(ffunction == 'rosenbrock'):\n",
    "            self.fitness = rosenbrock(self.position, dim)\n",
    "        elif(ffunction == 'rastrigrin'):\n",
    "            self.fitness = rastrigrin(self.position, dim)\n",
    "\n",
    "        self.best_particle_fitness = self.fitness   # we couldd start with very large number here, \n",
    "                                                    #but the actual value is better in case we are lucky \n",
    "                \n",
    "    def setPos(self, pos):\n",
    "        self.position = pos\n",
    "\n",
    "        if(self.ffunction == 'sphere'):\n",
    "            self.fitness = sphere(self.position,self.dim)\n",
    "        elif(self.ffunction == 'rosenbrock'):\n",
    "            self.fitness = rosenbrock(self.position, self.dim)\n",
    "        elif(self.ffunction == 'rastrigrin'):\n",
    "            self.fitness = rastrigrin(self.position, self.dim)\n",
    "        \n",
    "        if self.fitness<self.best_particle_fitness:     # to update the personal best both \n",
    "                                                        # position (for velocity update) and\n",
    "                                                        # fitness (the new standard) are needed\n",
    "                                                        # global best is update on swarm leven\n",
    "            self.best_particle_fitness = self.fitness\n",
    "            self.best_particle_pos = pos\n",
    "\n",
    "    def updateVel(self, inertia, a1, a2, best_self_pos, best_swarm_pos):\n",
    "                # Here we use the canonical version\n",
    "                # V <- inertia*V + a1r1 (peronal_best - current_pos) + a2r2 (global_best - current_pos)\n",
    "        cur_vel = self.velocity\n",
    "        r1 = np.random.uniform(low=0, high=1, size = self.dim)\n",
    "        r2 = np.random.uniform(low=0, high=1, size = self.dim)\n",
    "        a1r1 = np.multiply(a1, r1)\n",
    "        a2r2 = np.multiply(a2, r2)\n",
    "        best_self_dif = np.subtract(best_self_pos, self.position)\n",
    "        best_swarm_dif = np.subtract(best_swarm_pos, self.position)\n",
    "                    # the next line is the main equation, namely the velocity update, \n",
    "                    # the velocities are added to the positions at swarm level\n",
    "        new_vel = inertia*cur_vel + np.multiply(a1r1, best_self_dif) + np.multiply(a2r2, best_swarm_dif)\n",
    "        self.velocity = new_vel\n",
    "        return new_vel"
   ]
  },
  {
   "cell_type": "markdown",
   "metadata": {},
   "source": [
    "Below is the PSO class where the algorithm will run"
   ]
  },
  {
   "cell_type": "code",
   "execution_count": 6,
   "metadata": {},
   "outputs": [],
   "source": [
    "class PSO: # all the material that is relavant at swarm level\n",
    "\n",
    "    def __init__(self, w, a1, a2, dim, population_size, time_steps, search_range, ffunction):\n",
    "\n",
    "        # Here we use values that are (somewhat) known to be good\n",
    "        # There are no \"best\" parameters (No Free Lunch), so try using different ones\n",
    "        # There are several papers online which discuss various different tunings of a1 and a2\n",
    "        # for different types of problems\n",
    "        self.w = w # Inertia\n",
    "        self.a1 = a1 # Attraction to personal best\n",
    "        self.a2 = a2 # Attraction to global best\n",
    "        self.dim = dim\n",
    "        self.ffunction = ffunction\n",
    "\n",
    "        self.swarm = [Particle(dim,-search_range,search_range, ffunction) for i in range(population_size)]\n",
    "        self.time_steps = time_steps\n",
    "        # print('init')\n",
    "\n",
    "        # Initialising global best, you can wait until the end of the first time step\n",
    "        # but creating a random initial best and fitness which is very high will mean you\n",
    "        # do not have to write an if statement for the one off case\n",
    "        self.best_swarm_pos = np.random.uniform(low=-500, high=500, size=dim)\n",
    "        self.best_swarm_fitness = 1e100\n",
    "\n",
    "    def run(self):\n",
    "        for t in range(self.time_steps):\n",
    "            for p in range(len(self.swarm)):\n",
    "                particle = self.swarm[p]\n",
    "\n",
    "                new_position = particle.position + particle.updateVel(self.w, self.a1, self.a2, particle.best_particle_pos, self.best_swarm_pos)\n",
    "                                \n",
    "                if new_position@new_position > 1.0e+18: # The search will be terminated if the distance \n",
    "                                                        # of any particle from center is too large\n",
    "                    # print('Time:', t,'Best Pos:',self.best_swarm_pos,'Best Fit:',self.best_swarm_fitness)\n",
    "                    self.best_swarm_fitness = 1000\n",
    "                    return self.best_swarm_fitness\n",
    "                    # raise SystemExit('Most likely divergent: Decrease parameter values')\n",
    " \n",
    "                self.swarm[p].setPos(new_position)\n",
    "\n",
    "                if(self.ffunction == 'sphere'):\n",
    "                    new_fitness = sphere(new_position,self.dim)\n",
    "                elif(self.ffunction == 'rosenbrock'):\n",
    "                    new_fitness = rosenbrock(new_position, self.dim)\n",
    "                elif(self.ffunction == 'rastrigrin'):\n",
    "                    new_fitness = rastrigrin(new_position, self.dim)\n",
    "\n",
    "                if new_fitness < self.best_swarm_fitness:   # to update the global best both \n",
    "                                                            # position (for velocity update) and\n",
    "                                                            # fitness (the new group norm) are needed\n",
    "                    self.best_swarm_fitness = new_fitness\n",
    "                    self.best_swarm_pos = new_position\n",
    "\n",
    "            # if t % 100 == 0: #we print only two components even it search space is high-dimensional\n",
    "                # print(\"Time: %6d,  Best Fitness: %14.6f,  Best Pos: %9.4f,%9.4f\" % (t,self.best_swarm_fitness,self.best_swarm_pos[0],self.best_swarm_pos[1]), end =\" \")\n",
    "                # if self.dim>2: \n",
    "                    # print('...')\n",
    "                # else:\n",
    "                    # print('')\n",
    "        return self.best_swarm_fitness"
   ]
  },
  {
   "cell_type": "markdown",
   "metadata": {},
   "source": [
    "Here we will be utilisation two different fitness functions, the 'sphere' function and the 'rastrigrin' function. Our job is to find parameters w and a such that the PSO algorithm can obtain good results in a short time. To achieve this, we will create a search space using w and a as the dimensions."
   ]
  },
  {
   "cell_type": "code",
   "execution_count": 13,
   "metadata": {},
   "outputs": [],
   "source": [
    "ww = np.linspace(0, 1, 26)\n",
    "aa = np.linspace(0.5, 3, 26)\n",
    "best_fitnesses = np.empty([26,26])\n",
    "ffunction = 'rastrigrin'\n",
    "time_steps = 100\n",
    "for i, w in enumerate(ww):\n",
    "    for j, a in enumerate(aa):\n",
    "        best_fitnesses[i,j] = PSO(dim=3, w=w, a1=a, a2=a, population_size=30, time_steps=time_steps, search_range=5.12, ffunction = ffunction).run() # Modified the PSO.run() function to return the best swarm fitness\n",
    "        # print(\"w = {}, a = {} -> Best Fitness = {}\".format(w, a, best_fitnesses[i, j]))\n"
   ]
  },
  {
   "cell_type": "markdown",
   "metadata": {},
   "source": [
    "Now plotting the data as a heatmap to visualise the distribution and quality of solutions"
   ]
  },
  {
   "cell_type": "code",
   "execution_count": null,
   "metadata": {},
   "outputs": [],
   "source": [
    "# Plot data as heat map\n",
    "data = pd.DataFrame(best_fitnesses, index = ww, columns = np.round(aa, 3))\n",
    "ax = sns.heatmap(data, mask=(best_fitnesses > 1),cmap=sns.color_palette(\"rocket_r\", as_cmap=True), cbar_kws={'label': 'Fitness'})\n",
    "ax.set_facecolor('black')\n",
    "plt.xlabel(\"$α$\", fontsize = 16)\n",
    "plt.ylabel(\"$ω$\", fontsize = 16)\n",
    "plt.title(\"{} function fitness values over {} time steps\".format(ffunction.capitalize(), time_steps), fontsize = 14)\n",
    "plt.tight_layout()\n",
    "ax.grid(False)\n",
    "# plt.savefig(r\"D:\\User Folders\\Ben\\Desktop\\University\\Year 5\\Semester 1\\NAT\\media\\{}{}.pdf\".format(ffunction, time_steps))\n",
    "plt.show()\n",
    "\n"
   ]
  },
  {
   "cell_type": "markdown",
   "metadata": {},
   "source": [
    "# Problem 2: Scaling"
   ]
  },
  {
   "cell_type": "markdown",
   "metadata": {},
   "source": [
    "For this problem, the dimensionality of the search space will be used as an additional paramater. For this experiment, each function will be run with w and a values which produced good results in the previous experiment"
   ]
  },
  {
   "cell_type": "code",
   "execution_count": null,
   "metadata": {},
   "outputs": [],
   "source": [
    "\n",
    "best_fitnesses = np.empty([51, 51])\n",
    "population_size = np.arange(1, 51, 1)\n",
    "print(population_size)\n",
    "ffunction = 'rastrigrin'\n",
    "if(ffunction == 'sphere'):\n",
    "    w = 2.4\n",
    "    a = 1\n",
    "    time_steps = 5\n",
    "elif(ffunction == 'rastrigrin'):\n",
    "    w = 0.48\n",
    "    a = 1.6\n",
    "    time_steps = 300\n",
    "\n",
    "# print(\"Function: {}\\nw: {}\\na: {}\\nTime steps: {}\".format(ffunction, w, a, time_steps))\n",
    "for i in range(51):\n",
    "    for j, p in enumerate(population_size):\n",
    "        best_fitnesses[i, j] = PSO(dim=3, w=w, a1=a, a2=a, population_size=p, time_steps=time_steps, search_range=5.12, ffunction = ffunction).run() # Modified the PSO.run() function to return the best swarm fitness\n",
    "data = pd.DataFrame(data=best_fitnesses).melt()\n",
    "data.columns = [\"Population Size\", \"Fitness\"]\n"
   ]
  },
  {
   "cell_type": "markdown",
   "metadata": {},
   "source": [
    "After collecting the best fitnesses, display them as a line graph"
   ]
  },
  {
   "cell_type": "code",
   "execution_count": null,
   "metadata": {},
   "outputs": [],
   "source": [
    "if(ffunction == 'sphere'):\n",
    "    colour = \"tomato\"\n",
    "elif(ffunction == 'rastrigrin'):\n",
    "    colour = \"mediumpurple\"\n",
    "graph = sns.lineplot(data = data, linewidth = 2, x = \"Population Size\", y = \"Fitness\", color = colour)\n",
    "graph.set(title=\"Average {} function fitness values for population size\".format(ffunction.capitalize()))\n",
    "\n",
    "fig = graph.get_figure()\n",
    "plt.tight_layout()\n",
    "fig.savefig(r\"D:\\User Folders\\Ben\\Desktop\\University\\Year 5\\Semester 1\\NAT\\media\\{}pop{}.pdf\".format(ffunction.capitalize(), time_steps))\n",
    "\n",
    "\n",
    "\n"
   ]
  },
  {
   "cell_type": "markdown",
   "metadata": {},
   "source": [
    "# Problem 3: Heterogenous particle swarms"
   ]
  },
  {
   "cell_type": "markdown",
   "metadata": {},
   "source": [
    "In this problem, we will investigate the effect of having two different kinds of particles present in the swarm for the PSO algorithm using the Rastrigrin fitness function."
   ]
  },
  {
   "cell_type": "code",
   "execution_count": 14,
   "metadata": {},
   "outputs": [],
   "source": [
    "# Modified Particle class (Heterogeneous Swarms)\n",
    "\n",
    "class Particle: # all the material that is relavant at the level of the individual particles\n",
    "    \n",
    "    def __init__(self, dim, minx, maxx, ffunction):\n",
    "        self.ffunction = ffunction\n",
    "        self.position = np.random.uniform(low=minx, high=maxx, size=dim)\n",
    "        self.velocity = np.random.uniform(low=-0.1, high=0.1, size=dim)\n",
    "        self.best_particle_pos = self.position\n",
    "        self.dim = dim\n",
    "\n",
    "        if(ffunction == 'sphere'):\n",
    "            self.fitness = sphere(self.position,dim)\n",
    "        elif(ffunction == 'rosenbrock'):\n",
    "            self.fitness = rosenbrock(self.position, dim)\n",
    "        elif(ffunction == 'rastrigrin'):\n",
    "            self.fitness = rastrigrin(self.position, dim)\n",
    "\n",
    "        self.best_particle_fitness = self.fitness   # we couldd start with very large number here, \n",
    "                                                    #but the actual value is better in case we are lucky \n",
    "                \n",
    "    def setPos(self, pos):\n",
    "        self.position = pos\n",
    "\n",
    "        if(self.ffunction == 'sphere'):\n",
    "            self.fitness = sphere(self.position,self.dim)\n",
    "        elif(self.ffunction == 'rosenbrock'):\n",
    "            self.fitness = rosenbrock(self.position, self.dim)\n",
    "        elif(self.ffunction == 'rastrigrin'):\n",
    "            self.fitness = rastrigrin(self.position, self.dim)\n",
    "        \n",
    "        if self.fitness<self.best_particle_fitness:     # to update the personal best both \n",
    "                                                        # position (for velocity update) and\n",
    "                                                        # fitness (the new standard) are needed\n",
    "                                                        # global best is update on swarm leven\n",
    "            self.best_particle_fitness = self.fitness\n",
    "            self.best_particle_pos = pos\n",
    "\n",
    "    def updateVel(self, w1, a11, a21, w2, a12, a22, best_self_pos, best_swarm_pos, oddParticle):\n",
    "                # Here we use the canonical version\n",
    "                # V <- inertia*V + a1r1 (peronal_best - current_pos) + a2r2 (global_best - current_pos)\n",
    "        # Half the particles will be of a particular type, and the other half will be the other type\n",
    "        if(oddParticle == True):\n",
    "            inertia = w1\n",
    "            a1 = a11\n",
    "            a2 = a21\n",
    "        elif(oddParticle == False):\n",
    "            inertia = w2\n",
    "            a1 = a12\n",
    "            a2 = a22\n",
    "        cur_vel = self.velocity\n",
    "        r1 = np.random.uniform(low=0, high=1, size = self.dim)\n",
    "        r2 = np.random.uniform(low=0, high=1, size = self.dim)\n",
    "        a1r1 = np.multiply(a1, r1)\n",
    "        a2r2 = np.multiply(a2, r2)\n",
    "        best_self_dif = np.subtract(best_self_pos, self.position)\n",
    "        best_swarm_dif = np.subtract(best_swarm_pos, self.position)\n",
    "                    # the next line is the main equation, namely the velocity update, \n",
    "                    # the velocities are added to the positions at swarm level\n",
    "        new_vel = inertia*cur_vel + np.multiply(a1r1, best_self_dif) + np.multiply(a2r2, best_swarm_dif)\n",
    "        self.velocity = new_vel\n",
    "        return new_vel"
   ]
  },
  {
   "cell_type": "code",
   "execution_count": 11,
   "metadata": {},
   "outputs": [],
   "source": [
    "# Modified PSO algorithm (Heterogeneous Swarms)\n",
    "\n",
    "class PSO: # all the material that is relavant at swarm level\n",
    "\n",
    "    def __init__(self, w1, a11, a21, w2, a12, a22, dim, population_size, time_steps, search_range, ffunction):\n",
    "\n",
    "        # Here we use values that are (somewhat) known to be good\n",
    "        # There are no \"best\" parameters (No Free Lunch), so try using different ones\n",
    "        # There are several papers online which discuss various different tunings of a1 and a2\n",
    "        # for different types of problems\n",
    "        self.w1 = w1 # Inertia 1\n",
    "        self.w2 = w2 # Inertia 2\n",
    "        self.a11 = a11 # Attraction to personal best 1\n",
    "        self.a21 = a21 # Attraction to global best 1\n",
    "        self.a12 = a12 # Attraction to personal best 2\n",
    "        self.a22 = a22 # Attraction to global best 2\n",
    "        self.dim = dim\n",
    "        self.ffunction = ffunction\n",
    "\n",
    "        self.swarm = [Particle(dim,-search_range,search_range, ffunction) for i in range(population_size)]\n",
    "        self.time_steps = time_steps\n",
    "        # print('init')\n",
    "\n",
    "        # Initialising global best, you can wait until the end of the first time step\n",
    "        # but creating a random initial best and fitness which is very high will mean you\n",
    "        # do not have to write an if statement for the one off case\n",
    "        self.best_swarm_pos = np.random.uniform(low=-500, high=500, size=dim)\n",
    "        self.best_swarm_fitness = 1e100\n",
    "\n",
    "    def run(self):\n",
    "        for t in range(self.time_steps):\n",
    "            oddParticle = True\n",
    "            for p in range(len(self.swarm)):\n",
    "                particle = self.swarm[p]\n",
    "                new_position = particle.position + particle.updateVel(self.w1, self.a11, self.a21, self.w2, self.a12, self.a22, particle.best_particle_pos, self.best_swarm_pos, oddParticle)\n",
    "                oddParticle = not oddParticle                \n",
    "                if new_position@new_position > 1.0e+18: # The search will be terminated if the distance \n",
    "                                                        # of any particle from center is too large\n",
    "                    # print('Time:', t,'Best Pos:',self.best_swarm_pos,'Best Fit:',self.best_swarm_fitness)\n",
    "                    self.best_swarm_fitness = 1000\n",
    "                    return self.best_swarm_fitness\n",
    "                    # raise SystemExit('Most likely divergent: Decrease parameter values')\n",
    " \n",
    "                self.swarm[p].setPos(new_position)\n",
    "\n",
    "                if(self.ffunction == 'sphere'):\n",
    "                    new_fitness = sphere(new_position,self.dim)\n",
    "                elif(self.ffunction == 'rosenbrock'):\n",
    "                    new_fitness = rosenbrock(new_position, self.dim)\n",
    "                elif(self.ffunction == 'rastrigrin'):\n",
    "                    new_fitness = rastrigrin(new_position, self.dim)\n",
    "\n",
    "                if new_fitness < self.best_swarm_fitness:   # to update the global best both \n",
    "                                                            # position (for velocity update) and\n",
    "                                                            # fitness (the new group norm) are needed\n",
    "                    self.best_swarm_fitness = new_fitness\n",
    "                    self.best_swarm_pos = new_position\n",
    "\n",
    "            # if t % 100 == 0: #we print only two components even it search space is high-dimensional\n",
    "                # print(\"Time: %6d,  Best Fitness: %14.6f,  Best Pos: %9.4f,%9.4f\" % (t,self.best_swarm_fitness,self.best_swarm_pos[0],self.best_swarm_pos[1]), end =\" \")\n",
    "                # if self.dim>2: \n",
    "                    # print('...')\n",
    "                # else:\n",
    "                    # print('')\n",
    "        return self.best_swarm_fitness"
   ]
  },
  {
   "cell_type": "markdown",
   "metadata": {},
   "source": [
    "We will begin by assigning a11 and a21 to be the same value, similarly, a12 and a22 will be the same value."
   ]
  },
  {
   "cell_type": "code",
   "execution_count": 33,
   "metadata": {},
   "outputs": [],
   "source": [
    "ww2 = np.linspace(0, 1, 26)\n",
    "w1 = 0.48\n",
    "a1 = 1.6\n",
    "aa2 = np.linspace(0.5, 3, 26)\n",
    "best_fitnesses = np.empty([26,26])\n",
    "ffunction = 'rastrigrin'\n",
    "time_steps = 300\n",
    "particles = \"heterogeneous\"\n",
    "for i, w2 in enumerate(ww2):\n",
    "    for j, a2 in enumerate(aa2):\n",
    "\n",
    "        if(particles == \"homogeneous\"):\n",
    "            w1 = w2\n",
    "            a1 = a2\n",
    "\n",
    "        best_fitnesses[i,j] = PSO(dim=3, w1=w1, a11=a1, a21=a1, w2=w2, a12=a2, a22=a2, population_size=30, time_steps=time_steps, search_range=5.12, ffunction = ffunction).run() # Modified the PSO.run() function to return the best swarm fitness\n",
    "        # print(\"w = {}, a = {} -> Best Fitness = {}\".format(w, a, best_fitnesses[i, j]))\n"
   ]
  },
  {
   "cell_type": "code",
   "execution_count": null,
   "metadata": {},
   "outputs": [],
   "source": [
    "# Plot data as heat map\n",
    "data = pd.DataFrame(best_fitnesses, index = ww2, columns = np.round(aa2, 3))\n",
    "ax = sns.heatmap(data, mask=(best_fitnesses > 1),cmap=sns.color_palette(\"rocket_r\", as_cmap=True), cbar_kws={'label': 'Fitness'})\n",
    "ax.set_facecolor('black')\n",
    "plt.xlabel(\"$α$\", fontsize = 16)\n",
    "plt.ylabel(\"$ω$\", fontsize = 16)\n",
    "plt.title(\"{} function fitness for {} swarm\".format(ffunction.capitalize(), particles), fontsize = 14)\n",
    "plt.tight_layout()\n",
    "ax.grid(False)\n",
    "plt.savefig(r\"D:\\User Folders\\Ben\\Desktop\\University\\Year 5\\Semester 1\\NAT\\media\\{}{}{}.pdf\".format(ffunction, time_steps, particles))\n",
    "plt.show()\n"
   ]
  },
  {
   "cell_type": "markdown",
   "metadata": {},
   "source": [
    "# Problem 4: Differential Evolution"
   ]
  },
  {
   "cell_type": "markdown",
   "metadata": {},
   "source": [
    "Here we will use scipy's differential evolution optimiser. We will begin by recreating the Rastrigrin function such that it can be used by the optimiser, then continuing by comparing its performance against the PSO implementation."
   ]
  },
  {
   "cell_type": "code",
   "execution_count": 77,
   "metadata": {},
   "outputs": [
    {
     "name": "stdout",
     "output_type": "stream",
     "text": [
      "Iteration [50/50]\r"
     ]
    }
   ],
   "source": [
    "from scipy.optimize import differential_evolution\n",
    "bounds = [(-5.12, 5.12), (-5.12, 5.12), (-5.12, 5.12)]\n",
    "# Use default mutation and recombination rates\n",
    "def rastrigrinDE(x): #Hard code in the dimensionality as scipy.de inputs only x vector\n",
    "    sumPart = 0\n",
    "    fitness = 0\n",
    "    for i in range(3):\n",
    "        sumPart = sumPart + (np.square(x[i])-10*np.cos(2*np.pi*x[i]))\n",
    "    fitness = 10*3 + sumPart\n",
    "    return fitness\n",
    "\n",
    "best_fitnessesDE = np.empty([51,51])\n",
    "population = np.arange(1, 51, 1)\n",
    "for i in range(51):\n",
    "    print(\"Iteration [{}/50]\".format(i), end=\"\\r\")\n",
    "    for j, p in enumerate(population):\n",
    "        best_fitnessesDE[i, j] = differential_evolution(rastrigrinDE, bounds, popsize=p, maxiter=300, mutation = 0.8, recombination = 0.9).fun\n",
    "\n",
    "dataDE = pd.DataFrame(data=best_fitnessesDE)\n",
    "dataDE = dataDE.melt()\n",
    "dataDE.columns = [\"Population Size\", \"Fitness\"]"
   ]
  },
  {
   "cell_type": "code",
   "execution_count": null,
   "metadata": {},
   "outputs": [],
   "source": [
    "ffunction = \"differential evolution\"\n",
    "\n",
    "graph = sns.lineplot(data = dataDE, linewidth = 2, x = \"Population Size\", y = \"Fitness\", color = \"tomato\")\n",
    "graph.set(title=\"Average {} function fitness values for population size\".format(ffunction.capitalize()))\n",
    "\n",
    "fig = graph.get_figure()\n",
    "plt.tight_layout()\n",
    "fig.savefig(r\"D:\\User Folders\\Ben\\Desktop\\University\\Year 5\\Semester 1\\NAT\\media\\{}pop.pdf\".format(ffunction.capitalize()))\n"
   ]
  },
  {
   "cell_type": "markdown",
   "metadata": {},
   "source": [
    "# Problem 5: Genetic Programming"
   ]
  },
  {
   "cell_type": "markdown",
   "metadata": {},
   "source": [
    "Import relevant libraries"
   ]
  },
  {
   "cell_type": "code",
   "execution_count": 2,
   "metadata": {},
   "outputs": [],
   "source": [
    "from random import random, randint, seed\n",
    "from statistics import mean\n",
    "from copy import deepcopy\n",
    "import numpy as np"
   ]
  },
  {
   "cell_type": "markdown",
   "metadata": {},
   "source": [
    "Set the parameters"
   ]
  },
  {
   "cell_type": "code",
   "execution_count": 32,
   "metadata": {},
   "outputs": [],
   "source": [
    "POP_SIZE        = 600  # population size\n",
    "MIN_DEPTH       = 2    # minimal initial random tree depth\n",
    "MAX_DEPTH       = 5    # maximal initial random tree depth\n",
    "GENERATIONS     = 250  # maximal number of generations to run evolution\n",
    "TOURNAMENT_SIZE = 50   # size of tournament for tournament selection\n",
    "XO_RATE         = 0.8  # crossover rate \n",
    "PROB_MUTATION   = 0.2  # per-node mutation probability "
   ]
  },
  {
   "cell_type": "markdown",
   "metadata": {},
   "source": [
    "Define the functions"
   ]
  },
  {
   "cell_type": "code",
   "execution_count": 4,
   "metadata": {},
   "outputs": [],
   "source": [
    "def add(x, y): return x + y\n",
    "def sub(x, y): return x - y\n",
    "def mul(x, y): return x * y\n",
    "def cos(x, y): return np.cos(x * y) # Notebook given to us was not built with functions with an arity of 1 in mind."
   ]
  },
  {
   "cell_type": "markdown",
   "metadata": {},
   "source": [
    "Define set of terminals"
   ]
  },
  {
   "cell_type": "code",
   "execution_count": 5,
   "metadata": {},
   "outputs": [],
   "source": [
    "FUNCTIONS = [add, sub, mul, cos]\n",
    "TERMINALS = ['x', 10, 2*np.pi]"
   ]
  },
  {
   "cell_type": "markdown",
   "metadata": {},
   "source": [
    "Define target function, in this case the 1-D Rastrigrin function"
   ]
  },
  {
   "cell_type": "code",
   "execution_count": 20,
   "metadata": {},
   "outputs": [],
   "source": [
    "ffunction = 'rastrigrin2D'\n",
    "\n",
    "def target_func(x): # evolution's target. USING 1 DIMENSIONAL RASTRIGRIN FUNCTION\n",
    "    # As the Rastrigrin function used is one dimensional, no summation necessary\n",
    "    # +(10, -( * (x,x), * (10, cos( * (2, * (pi,x) ) ) ) ) )\n",
    "    if(ffunction == 'rastrigrin1D'):\n",
    "        return 10 + x**2 - 10*np.cos(2*np.pi*x)\n",
    "    elif(ffunction == 'rastrigrin2D'):\n",
    "        x2 = randint(-100, 101)\n",
    "        x2 /= 100\n",
    "        return 20 + x**2 - 10*np.cos(2*np.pi*x) + x2**2 - 10*np.cos(2*np.pi*x2)"
   ]
  },
  {
   "cell_type": "markdown",
   "metadata": {},
   "source": [
    "Generate data points to use in the GP"
   ]
  },
  {
   "cell_type": "code",
   "execution_count": 21,
   "metadata": {},
   "outputs": [],
   "source": [
    "def generate_dataset(): # generate 101 data points from target_func\n",
    "    dataset = []\n",
    "    for x in range(-100,101,2): \n",
    "        x /= 100\n",
    "        dataset.append([x, target_func(x)])\n",
    "    return dataset"
   ]
  },
  {
   "cell_type": "markdown",
   "metadata": {},
   "source": [
    "Define the GP Tree building algorithm"
   ]
  },
  {
   "cell_type": "code",
   "execution_count": 22,
   "metadata": {},
   "outputs": [],
   "source": [
    "class GPTree:\n",
    "    def __init__(self, data = None, left = None, right = None):\n",
    "        self.data  = data\n",
    "        self.left  = left\n",
    "        self.right = right\n",
    "        \n",
    "    def node_label(self): # string label\n",
    "        if (self.data in FUNCTIONS):\n",
    "            return self.data.__name__\n",
    "        else: \n",
    "            return str(self.data)\n",
    "    \n",
    "    def print_tree(self, prefix = \"\"): # textual printout\n",
    "        print(\"%s%s\" % (prefix, self.node_label()))        \n",
    "        if self.left:  self.left.print_tree (prefix + \"   \")\n",
    "        if self.right: self.right.print_tree(prefix + \"   \")\n",
    "\n",
    "    def compute_tree(self, x): \n",
    "        if (self.data in FUNCTIONS):\n",
    "            return self.data(self.left.compute_tree(x), self.right.compute_tree(x))\n",
    "        elif self.data == 'x': return x\n",
    "        else: return self.data\n",
    "            \n",
    "    def random_tree(self, grow, max_depth, depth = 0): # create random tree using either grow or full method\n",
    "        if depth < MIN_DEPTH or (depth < max_depth and not grow): \n",
    "            self.data = FUNCTIONS[randint(0, len(FUNCTIONS)-1)]\n",
    "        elif depth >= max_depth:   \n",
    "            self.data = TERMINALS[randint(0, len(TERMINALS)-1)]\n",
    "        else: # intermediate depth, grow\n",
    "            if random () > 0.5: \n",
    "                self.data = TERMINALS[randint(0, len(TERMINALS)-1)]\n",
    "            else:\n",
    "                self.data = FUNCTIONS[randint(0, len(FUNCTIONS)-1)]\n",
    "        if self.data in FUNCTIONS:\n",
    "            self.left = GPTree()          \n",
    "            self.left.random_tree(grow, max_depth, depth = depth + 1)    \n",
    "            self.right = GPTree()\n",
    "            self.right.random_tree(grow, max_depth, depth = depth + 1)\n",
    "\n",
    "    def mutation(self):\n",
    "        if random() < PROB_MUTATION: # mutate at this node\n",
    "            self.random_tree(grow = True, max_depth = 2)\n",
    "        elif self.left: self.left.mutation()\n",
    "        elif self.right: self.right.mutation() \n",
    "\n",
    "    def size(self): # tree size in nodes\n",
    "        if self.data in TERMINALS: return 1\n",
    "        l = self.left.size()  if self.left  else 0\n",
    "        r = self.right.size() if self.right else 0\n",
    "        return 1 + l + r\n",
    "\n",
    "    def build_subtree(self): # count is list in order to pass \"by reference\"\n",
    "        t = GPTree()\n",
    "        t.data = self.data\n",
    "        if self.left:  t.left  = self.left.build_subtree()\n",
    "        if self.right: t.right = self.right.build_subtree()\n",
    "        return t\n",
    "                        \n",
    "    def scan_tree(self, count, second): # note: count is list, so it's passed \"by reference\"\n",
    "        count[0] -= 1            \n",
    "        if count[0] <= 1: \n",
    "            if not second: # return subtree rooted here\n",
    "                return self.build_subtree()\n",
    "            else: # glue subtree here\n",
    "                self.data  = second.data\n",
    "                self.left  = second.left\n",
    "                self.right = second.right\n",
    "        else:  \n",
    "            ret = None              \n",
    "            if self.left  and count[0] > 1: ret = self.left.scan_tree(count, second)  \n",
    "            if self.right and count[0] > 1: ret = self.right.scan_tree(count, second)  \n",
    "            return ret\n",
    "\n",
    "    def crossover(self, other): # xo 2 trees at random nodes\n",
    "        if random() < XO_RATE:\n",
    "            second = other.scan_tree([randint(1, other.size())], None) # 2nd random subtree\n",
    "            self.scan_tree([randint(1, self.size())], second) # 2nd subtree \"glued\" inside 1st tree"
   ]
  },
  {
   "cell_type": "markdown",
   "metadata": {},
   "source": [
    "Define fitness and selection process, in this case using a tournament based selection"
   ]
  },
  {
   "cell_type": "code",
   "execution_count": 23,
   "metadata": {},
   "outputs": [],
   "source": [
    "def fitness(individual, dataset): # inverse mean absolute error over dataset normalized to [0,1]\n",
    "    return 1 / (1 + mean([abs(individual.compute_tree(ds[0]) - ds[1]) for ds in dataset]))\n",
    "\n",
    "def selection(population, fitnesses): # select one individual using tournament selection\n",
    "    tournament = [randint(0, len(population)-1) for i in range(TOURNAMENT_SIZE)] # select tournament contenders\n",
    "    tournament_fitnesses = [fitnesses[tournament[i]] for i in range(TOURNAMENT_SIZE)]\n",
    "    return deepcopy(population[tournament[tournament_fitnesses.index(max(tournament_fitnesses))]]) "
   ]
  },
  {
   "cell_type": "markdown",
   "metadata": {},
   "source": [
    "Initialise the starting population"
   ]
  },
  {
   "cell_type": "code",
   "execution_count": null,
   "metadata": {},
   "outputs": [],
   "source": [
    "def init_population(): # ramped half-and-half\n",
    "    pop = []\n",
    "    for md in range(3, MAX_DEPTH + 1):\n",
    "        for i in range(int(POP_SIZE/6)):\n",
    "            t = GPTree()\n",
    "            t.random_tree(grow = True, max_depth = md) # grow\n",
    "            pop.append(t) \n",
    "        for i in range(int(POP_SIZE/6)):\n",
    "            t = GPTree()\n",
    "            t.random_tree(grow = False, max_depth = md) # full\n",
    "            pop.append(t) \n",
    "    return pop\n",
    "\n",
    "print(len(init_population()))"
   ]
  },
  {
   "cell_type": "markdown",
   "metadata": {},
   "source": [
    "Run the Genetic Programming algorithm!"
   ]
  },
  {
   "cell_type": "code",
   "execution_count": null,
   "metadata": {},
   "outputs": [],
   "source": [
    "dataset = generate_dataset()\n",
    "population = init_population() \n",
    "best_of_run = None\n",
    "best_of_run_f = 0\n",
    "best_of_run_gen = 0\n",
    "fitnesses = [fitness(population[i], dataset) for i in range(POP_SIZE)]\n",
    "print(\"Number of generations: {}\\nPopulation size: {}\".format(GENERATIONS, POP_SIZE))\n",
    "# go evolution!\n",
    "for gen in range(GENERATIONS):        \n",
    "    nextgen_population=[]\n",
    "    for i in range(POP_SIZE):\n",
    "        parent1 = selection(population, fitnesses)\n",
    "        parent2 = selection(population, fitnesses)\n",
    "        parent1.crossover(parent2)\n",
    "        parent1.mutation()\n",
    "        nextgen_population.append(parent1)\n",
    "    population=nextgen_population\n",
    "    fitnesses = [fitness(population[i], dataset) for i in range(POP_SIZE)]\n",
    "    if max(fitnesses) > best_of_run_f:\n",
    "        best_of_run_f = max(fitnesses)\n",
    "        best_of_run_gen = gen\n",
    "        best_of_run = deepcopy(population[fitnesses.index(max(fitnesses))])\n",
    "        print(\"________________________\")\n",
    "        print(\"gen:\", gen, \", best_of_run_f:\", round(max(fitnesses),3), \", best_of_run:\") \n",
    "        best_of_run.print_tree()\n",
    "    if (round(best_of_run_f, 3) == 1):\n",
    "        print(\"Perfect score of {} achieved. Ending search.\".format(round(best_of_run_f, 3)))\n",
    "        break   \n",
    "\n",
    "print(\"Total number of generations reached!\")\n",
    "print(\"\\n\\n_________________________________________________\\nEND OF RUN\\nbest_of_run attained at gen \" + str(best_of_run_gen) +\\\n",
    "        \" and has f=\" + str(round(best_of_run_f,3)))\n",
    "best_of_run.print_tree()"
   ]
  }
 ],
 "metadata": {
  "kernelspec": {
   "display_name": "Python 3.10.8 64-bit (microsoft store)",
   "language": "python",
   "name": "python3"
  },
  "language_info": {
   "codemirror_mode": {
    "name": "ipython",
    "version": 3
   },
   "file_extension": ".py",
   "mimetype": "text/x-python",
   "name": "python",
   "nbconvert_exporter": "python",
   "pygments_lexer": "ipython3",
   "version": "3.10.8"
  },
  "vscode": {
   "interpreter": {
    "hash": "e0acaf148705ed9ed86cc5cad12259d7985e30670e5686e5f55604a9b3b84a55"
   }
  }
 },
 "nbformat": 4,
 "nbformat_minor": 4
}
